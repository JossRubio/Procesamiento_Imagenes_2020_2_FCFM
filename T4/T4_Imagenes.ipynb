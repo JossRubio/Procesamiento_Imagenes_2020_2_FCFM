{
  "nbformat": 4,
  "nbformat_minor": 0,
  "metadata": {
    "colab": {
      "name": "T4_Imagenes.ipynb",
      "provenance": [],
      "collapsed_sections": [],
      "toc_visible": true
    },
    "kernelspec": {
      "name": "python3",
      "display_name": "Python 3"
    }
  },
  "cells": [
    {
      "cell_type": "markdown",
      "metadata": {
        "id": "SMygZveHyX_J"
      },
      "source": [
        "# Tarea 4 Detección de Personas usando HOG\n",
        "\n",
        "EL7008-1 Procesamiento avanzado de imágenes\n",
        "\n",
        "Alumno: José Manuel Rubio Cienfuegos.\n",
        "\n",
        "Profesor: Javier Ruiz del Solar\n",
        "\n"
      ]
    },
    {
      "cell_type": "markdown",
      "metadata": {
        "id": "0MGUlwcATmfP"
      },
      "source": [
        "### Librerías."
      ]
    },
    {
      "cell_type": "code",
      "metadata": {
        "id": "Sxw1E04aBepH"
      },
      "source": [
        "import numpy as np\n",
        "import matplotlib.pyplot as plt\n",
        "import cv2 \n",
        "from google.colab.patches import cv2_imshow\n",
        "from numba import jit"
      ],
      "execution_count": null,
      "outputs": []
    },
    {
      "cell_type": "markdown",
      "metadata": {
        "id": "MDgCqvhzoPF5"
      },
      "source": [
        "### Carga de Imágenes desde drive."
      ]
    },
    {
      "cell_type": "code",
      "metadata": {
        "id": "BTAbL3iEuUPo",
        "colab": {
          "base_uri": "https://localhost:8080/"
        },
        "outputId": "c0c677bf-737d-49d5-9908-9ea7e4f163d9"
      },
      "source": [
        "from google.colab import drive\n",
        "drive.mount('/content/drive')"
      ],
      "execution_count": null,
      "outputs": [
        {
          "output_type": "stream",
          "text": [
            "Mounted at /content/drive\n"
          ],
          "name": "stdout"
        }
      ]
    },
    {
      "cell_type": "markdown",
      "metadata": {
        "id": "5RV71hYYTJV4"
      },
      "source": [
        "Diccionario con las imagenes desde Google Drive"
      ]
    },
    {
      "cell_type": "code",
      "metadata": {
        "id": "-23tm3ZVUNI_"
      },
      "source": [
        "# Diccionario para inicializar los las variables que contedran la información de las imagenes\n",
        "\n",
        "images = dict()\n",
        "\n",
        "q_images = [123, 62, 185]   # Cantidad de imagenes almacenadas en el drive\n",
        "keys_images, dir_images = ['cars', 'chairs', 'person'], ['/car_side/', '/chair/', '/pedestrian/'] # Llaves de los diccionarios y nombre de carpetas en el drive\n",
        "dir_drive = '/content/drive/My Drive/T4_Imagenes'    # Directorio del drive\n",
        "\n",
        "q_cars, q_chairs, q_persons = 123, 62, 185\n",
        "\n",
        "for key, dir, q in zip(keys_images, dir_images, q_images):\n",
        "  directory = dir_drive  + dir\n",
        "  images[key] = dict()\n",
        "  if key != 'person':\n",
        "    for i in range(1, q+1): # Recorriendo en la cantidad de imagenes de las carpetas.\n",
        "      if i < 10:\n",
        "        images[key][i] = cv2.imread(directory + 'image_000' + str(i) + '.jpg')\n",
        "      elif (10 <= i) and (i < 100):\n",
        "        images[key][i] = cv2.imread(directory + 'image_00' + str(i) + '.jpg')\n",
        "      elif i >= 100:\n",
        "        images[key][i] = cv2.imread(directory + 'image_0' + str(i) + '.jpg')\n",
        "  else:\n",
        "    for i in range(1, q+1):\n",
        "      images[key][i] = cv2.imread(directory + str(i) + '.png')"
      ],
      "execution_count": null,
      "outputs": []
    },
    {
      "cell_type": "markdown",
      "metadata": {
        "id": "y5ug3f9JdFyd"
      },
      "source": [
        "### Función que lleva una imagen a una escala de grises"
      ]
    },
    {
      "cell_type": "code",
      "metadata": {
        "id": "p86n6dADYUDX"
      },
      "source": [
        "\"\"\" Función que lleva una imagen a una escala de grises, recibe una en 3 canales y retorna una imagen en escala de grises,\n",
        "    de dimensión [18,64] pixeles.\"\"\"\n",
        "def gray_image(image):\n",
        "  return cv2.resize(image[:,:,0],(64,128)).astype(np.float32)"
      ],
      "execution_count": null,
      "outputs": []
    },
    {
      "cell_type": "markdown",
      "metadata": {
        "id": "Fr1wX07xFEo4"
      },
      "source": [
        "### Gradientes de imagenes"
      ]
    },
    {
      "cell_type": "code",
      "metadata": {
        "id": "DFwu_dCFCkjO"
      },
      "source": [
        "# Función que calcula los gradientes de magnitud y dirección de una imagen, entrega una tupla donde se encuentran las magnitudes\n",
        "\n",
        "# @jit(nopython=True)\n",
        "\n",
        "def gradients_for_HOG(image):\n",
        "  gx, gy = cv2.Sobel(image, cv2.CV_32F, 0, 1), cv2.Sobel(image, cv2.CV_32F, 1, 0)\n",
        "  mag, angle = cv2.cartToPolar(gx, abs(gy), angleInDegrees=True)\n",
        "  return mag, angle\n",
        "\n",
        "def gradients_manual(image):\n",
        "  gx, gy = cv2.Sobel(image, cv2.CV_32F, 0, 1), cv2.Sobel(image, cv2.CV_32F, 1, 0)\n",
        "  mag = np.sqrt(gx**2 + gy**2)\n",
        "  ang = np.zeros(image.shape)\n",
        "  for r in range(image.shape[0]):       # Recorriendo las filas de las imágenes.\n",
        "    for c in range(image.shape[1]):     # Recorriendo las columnas\n",
        "      gx_value, gy_value = gx[r,c], abs(gy[r,c])\n",
        "      if gx_value == 0 and gy_value == 0:\n",
        "        ang[r,c] = 0\n",
        "      elif gx_value == 0 and gy_value > 0:\n",
        "        ang[r,c] = 90\n",
        "      elif gx_value < 0 and gy_value == 0:\n",
        "        ang[r,c] = 180\n",
        "      else:\n",
        "        degrees = np.degrees(np.arctan(gy_value/gx_value))\n",
        "        if degrees < 0:\n",
        "          degrees = 180 + degrees\n",
        "          ang[r,c] = degrees\n",
        "        else:\n",
        "          ang[r,c] = degrees\n",
        "  return mag, ang.astype(np.float32)"
      ],
      "execution_count": null,
      "outputs": []
    },
    {
      "cell_type": "markdown",
      "metadata": {
        "id": "uKQvHvfbI6Ql"
      },
      "source": [
        "### HOG"
      ]
    },
    {
      "cell_type": "code",
      "metadata": {
        "id": "hPfy4BdkI8SQ"
      },
      "source": [
        "\"\"\" Función auxilar para HOG, separa en bloques de 16x8 del mismo tamaño una imagen, recibe una imagen es escala de grises de (ancho,alto) = (64,128) \n",
        "    y entrega un diccionario de la imagen en escala de grises con la separación de bloques mencionada. \"\"\"\n",
        "\n",
        "# @jit(nopython=True)\n",
        "\n",
        "def block_separation(image):\n",
        "  im_gray = image.copy()\n",
        "  image_cells = dict()\n",
        "  k = 0\n",
        "  rows_division, cols_division = np.arange(0, 128, 8).astype(np.int32), np.arange(0, 64, 8)\n",
        "  for r_d in rows_division:\n",
        "    image_cells[k] = dict()\n",
        "    i = 0\n",
        "    for c_d in cols_division:\n",
        "      if r_d == 0:\n",
        "        if c_d == 0:\n",
        "          image_cells[k][i] = im_gray[:r_d+8, :c_d+8]\n",
        "          i += 1\n",
        "        elif c_d == 56:\n",
        "          image_cells[k][i] = im_gray[:r_d+8, c_d:]\n",
        "          i += 1\n",
        "        else:\n",
        "          image_cells[k][i] = im_gray[:r_d+8,c_d:c_d+8]\n",
        "          i += 1\n",
        "      elif r_d == 120:\n",
        "        if c_d == 0:\n",
        "          image_cells[k][i] = im_gray[r_d:, :c_d+8]\n",
        "          i += 1\n",
        "        elif c_d == 56:\n",
        "          image_cells[k][i] = im_gray[r_d:, c_d:]\n",
        "          i += 1\n",
        "        else:\n",
        "          image_cells[k][i] = im_gray[r_d:,c_d:c_d+8]\n",
        "          i += 1\n",
        "      else:\n",
        "        if c_d == 0:\n",
        "          image_cells[k][i] = im_gray[r_d:r_d+8, :c_d+8]\n",
        "          i += 1\n",
        "        elif c_d == 56:\n",
        "          image_cells[k][i] = im_gray[r_d:r_d+8, c_d:]\n",
        "          i += 1\n",
        "        else:\n",
        "          image_cells[k][i] = im_gray[r_d:r_d+8,c_d:c_d+8]\n",
        "          i += 1\n",
        "    k += 1\n",
        "  return image_cells  "
      ],
      "execution_count": null,
      "outputs": []
    },
    {
      "cell_type": "code",
      "metadata": {
        "id": "eAVCEKXzxkwu"
      },
      "source": [
        "\"\"\" Función que extrae las características HOG de una imagen, recibe los gradientes de la dirección y magnitud, \n",
        "    y entrega los 128 histogramas de la forma 8x16x9\"\"\"\n",
        "\n",
        "# @jit(nopython=True)\n",
        "\n",
        "def HOG_features(grad_mag, grad_ang, contribution):\n",
        "  mag_cells, ang_cells = block_separation(grad_mag), block_separation(grad_ang) # Separación de las imágenes en las celdas.\n",
        "  HOG_array = np.zeros([16, 8, 9], dtype=np.int64)\n",
        "\n",
        "  # Configurando la contribución de las direcciones, contribución total\n",
        "\n",
        "  if contribution == 'full':    \n",
        "    for k in range(16):\n",
        "      for i in range(8):\n",
        "        mag_block, dir_block = mag_cells[k][i], ang_cells[k][i]\n",
        "        im_size = mag_block.shape\n",
        "        hog_vector = np.zeros(9)\n",
        "        for r in range(im_size[0]):\n",
        "          for c in range(im_size[1]):\n",
        "            val_mag, val_dir = mag_block[r,c], dir_block[r,c]\n",
        "            if val_dir < 20 or val_dir == 180:\n",
        "              hog_vector[0] += val_mag\n",
        "            elif val_dir >= 20 and val_dir < 40:\n",
        "              hog_vector[1] += val_mag\n",
        "            elif val_dir >= 40 and val_dir < 60:\n",
        "              hog_vector[2] += val_mag\n",
        "            elif val_dir >= 60 and val_dir < 80:\n",
        "              hog_vector[3] += val_mag\n",
        "            elif val_dir >= 80 and val_dir < 100:\n",
        "              hog_vector[4] += val_mag\n",
        "            elif val_dir >= 100 and val_dir < 120:\n",
        "              hog_vector[5] += val_mag\n",
        "            elif val_dir >= 120 and val_dir < 140:\n",
        "              hog_vector[6] += val_mag\n",
        "            elif val_dir >= 140 and val_dir < 160:\n",
        "              hog_vector[7] += val_mag\n",
        "            elif val_dir >= 160 and val_dir < 180:\n",
        "              hog_vector[8] += val_mag\n",
        "        HOG_array[k,i,:] = hog_vector\n",
        "        # print(HOG_array[k,i,:])\n",
        "    # print(HOG_array)\n",
        "    return HOG_array\n",
        "\n",
        "  # Contribuciones parciales.\n",
        "\n",
        "  elif contribution == 'partial':\n",
        "    for k in range(16):\n",
        "      for i in range(8):\n",
        "        mag_block, dir_block = mag_cells[k][i], ang_cells[k][i]\n",
        "        im_size = mag_block.shape\n",
        "        hog_vector = np.zeros(9)\n",
        "        for r in range(im_size[0]):\n",
        "          for c in range(im_size[1]):\n",
        "            val_mag, val_dir = mag_block[r,c], dir_block[r,c]\n",
        "            if val_dir < 20:\n",
        "              prop_contribution_1, prop_contribution_2 = (val_dir - 0)/20, (20 - val_dir)/20\n",
        "              hog_vector[0], hog_vector[1] =  hog_vector[0] + prop_contribution_2*val_mag, hog_vector[1] + prop_contribution_1*val_mag\n",
        "            elif val_dir >= 20 and val_dir < 40:\n",
        "              prop_contribution_1, prop_contribution_2 = (val_dir - 20)/20, (40 - val_dir)/20\n",
        "              hog_vector[1], hog_vector[2] =  hog_vector[1] + prop_contribution_2*val_mag, hog_vector[2] + prop_contribution_1*val_mag\n",
        "            elif val_dir >= 40 and val_dir < 60:\n",
        "              prop_contribution_1, prop_contribution_2 = (val_dir - 40)/20, (60 - val_dir)/20\n",
        "              hog_vector[2], hog_vector[3] =  hog_vector[2] + prop_contribution_2*val_mag, hog_vector[3] + prop_contribution_1*val_mag\n",
        "            elif val_dir >= 60 and val_dir < 80:\n",
        "              prop_contribution_1, prop_contribution_2 = (val_dir - 60)/20, (80 - val_dir)/20\n",
        "              hog_vector[3], hog_vector[4] =  hog_vector[3] + prop_contribution_2*val_mag, hog_vector[4] + prop_contribution_1*val_mag\n",
        "            elif val_dir >= 80 and val_dir < 100:\n",
        "              prop_contribution_1, prop_contribution_2 = (val_dir - 80)/20, (100 - val_dir)/20\n",
        "              hog_vector[4], hog_vector[5] =  hog_vector[4] + prop_contribution_2*val_mag, hog_vector[5] + prop_contribution_1*val_mag\n",
        "            elif val_dir >= 100 and val_dir < 120:\n",
        "              prop_contribution_1, prop_contribution_2 = (val_dir - 100)/20, (120 - val_dir)/20\n",
        "              hog_vector[5], hog_vector[6] =  hog_vector[5] + prop_contribution_2*val_mag, hog_vector[6] + prop_contribution_1*val_mag\n",
        "            elif val_dir >= 120 and val_dir < 140:\n",
        "              prop_contribution_1, prop_contribution_2 = (val_dir - 120)/20, (140 - val_dir)/20\n",
        "              hog_vector[6], hog_vector[7] =  hog_vector[6] + prop_contribution_2*val_mag, hog_vector[7] + prop_contribution_1*val_mag\n",
        "            elif val_dir >= 140 and val_dir < 160:\n",
        "              prop_contribution_1, prop_contribution_2 = (val_dir - 140)/20, (160 - val_dir)/20\n",
        "              hog_vector[7], hog_vector[8] =  hog_vector[7] + prop_contribution_2*val_mag, hog_vector[8] + prop_contribution_1*val_mag\n",
        "            elif val_dir >= 160 and val_dir <= 180:\n",
        "              prop_contribution_1, prop_contribution_2 = (val_dir - 160)/20, (180 - val_dir)/20\n",
        "              hog_vector[8], hog_vector[0] =  hog_vector[8] + prop_contribution_2*val_mag, hog_vector[0] + prop_contribution_1*val_mag\n",
        "        HOG_array[k,i,:] = hog_vector\n",
        "    return HOG_array"
      ],
      "execution_count": null,
      "outputs": []
    },
    {
      "cell_type": "markdown",
      "metadata": {
        "id": "L8CiXioJuePB"
      },
      "source": [
        "### Block Normalization."
      ]
    },
    {
      "cell_type": "code",
      "metadata": {
        "id": "PAu8WSImuzl1"
      },
      "source": [
        "def block_normalization(hog_f):\n",
        "  h, w, d = hog_f.shape\n",
        "  hog_vector_norm = np.array([])\n",
        "  for r in range(h-1):\n",
        "    for c in range(w-1):\n",
        "      vector_norm = np.array([])\n",
        "      v_1, v_2, v_3, v_4 = hog_f[r,c,:], hog_f[r,c+1,:], hog_f[r+1,c,:], hog_f[r+1,c+1,:]\n",
        "      vector_block = np.array([v_1,v_2,v_3,v_4])\n",
        "      vector_norm = np.array([])\n",
        "      for v in vector_block:\n",
        "        vector_norm = np.append(vector_norm, v)\n",
        "      block_max, block_min = np.max(vector_norm), np.min(vector_norm)\n",
        "      if block_max == 0:\n",
        "        hog_vector_norm = np.append(hog_vector_norm, vector_norm)\n",
        "      else:\n",
        "        max_array, min_array = np.ones(len(vector_norm))*block_max, np.ones(len(vector_norm))*block_min\n",
        "        vector_norm = (vector_norm - min_array)/(max_array - min_array)\n",
        "        hog_vector_norm = np.append(hog_vector_norm, vector_norm)\n",
        "  return hog_vector_norm.reshape(1,len(hog_vector_norm))"
      ],
      "execution_count": null,
      "outputs": []
    },
    {
      "cell_type": "markdown",
      "metadata": {
        "id": "DNUc8fwO8wyU"
      },
      "source": [
        "### Extracción de características HOG para todas las imágenes"
      ]
    },
    {
      "cell_type": "code",
      "metadata": {
        "id": "BbTeoyl4-YEy"
      },
      "source": [
        "\"\"\" Función que extrae las caracteríticas HOG del contenido de imagenes que posee un diccionario, recibe un diccionario y entrega \n",
        "    los HOG features de cada imagen, esta función incluye también el método por el cual se desea extraer los HOG, ya sea una\n",
        "    contribución total a los bines o parcial. \"\"\"\n",
        "\n",
        "def hog_dic(Dict, method):\n",
        "  q_images = len(Dict)\n",
        "  hog_features = np.zeros([1,3780])\n",
        "  for k in range(1, q_images+1):\n",
        "    gray_im = gray_image(Dict[k])\n",
        "    im_gradients_mag, im_gradients_ang = gradients_manual(gray_im)\n",
        "    hog_image = HOG_features(im_gradients_mag, im_gradients_ang, method)\n",
        "    hog_block_normalization = block_normalization(hog_image)\n",
        "    hog_features = np.vstack([hog_features, hog_block_normalization])\n",
        "  hog_features = np.delete(hog_features, 0, 0)\n",
        "  return hog_features"
      ],
      "execution_count": null,
      "outputs": []
    },
    {
      "cell_type": "code",
      "metadata": {
        "id": "ItS9tXwgFncT"
      },
      "source": [
        "hog_cars = hog_dic(images['cars'],'partial')"
      ],
      "execution_count": null,
      "outputs": []
    },
    {
      "cell_type": "code",
      "metadata": {
        "id": "oJjn4wxZGdfU"
      },
      "source": [
        "hog_chairs = hog_dic(images['chairs'],'partial')"
      ],
      "execution_count": null,
      "outputs": []
    },
    {
      "cell_type": "code",
      "metadata": {
        "id": "YWHyjbJXGpdE"
      },
      "source": [
        "hog_person = hog_dic(images['person'],'partial')"
      ],
      "execution_count": null,
      "outputs": []
    },
    {
      "cell_type": "markdown",
      "metadata": {
        "id": "FNpZrOQzJNX0"
      },
      "source": [
        "### Creación de conjuntos de entrenamiento y validación."
      ]
    },
    {
      "cell_type": "code",
      "metadata": {
        "id": "xJ-LBwvzLvRN"
      },
      "source": [
        "from sklearn.model_selection import train_test_split\n",
        "from sklearn.preprocessing import StandardScaler"
      ],
      "execution_count": null,
      "outputs": []
    },
    {
      "cell_type": "code",
      "metadata": {
        "id": "E0LKLBohIAEu"
      },
      "source": [
        "no_person_data = np.vstack([hog_cars, hog_chairs])    # Juntando las características HOG de los objetos\n",
        "label_no_person, label_person = np.zeros(no_person_data.shape[0]), np.ones(hog_person.shape[0]) # Creando un arreglo ceros y unos para la formación de las clases\n",
        "data_np = np.c_[no_person_data, label_no_person]    # Concatenando las características de los objetos con la clase creada\n",
        "data_p = np.c_[hog_person, label_person]    # Mismo que el caso anterior, solo que se concatenan las personas con la clase creada.\n",
        "data_total = np.vstack([data_np, data_p]) # Concatenando ambas bases de datos."
      ],
      "execution_count": null,
      "outputs": []
    },
    {
      "cell_type": "markdown",
      "metadata": {
        "id": "2ZHs_ZkTKxQk"
      },
      "source": [
        "Aplicando un shuffle a los datos, y separando los datos en conjuntos de entrenamiento y prueba"
      ]
    },
    {
      "cell_type": "code",
      "metadata": {
        "id": "XIC-5bAnKJX_"
      },
      "source": [
        "X_data, y_data = data_total[:,:-1], data_total[:,-1]\n",
        "X_train, X_test, y_train, y_test = train_test_split(X_data, y_data, train_size=0.70)"
      ],
      "execution_count": null,
      "outputs": []
    },
    {
      "cell_type": "markdown",
      "metadata": {
        "id": "umQpJfdhMxg4"
      },
      "source": [
        "Aplicando StandarScaler a las características del conjunto de entrenamiento y prueba, este objeto es entrenado solo con las caracteríticas del conjunto de entrenamiento."
      ]
    },
    {
      "cell_type": "code",
      "metadata": {
        "id": "GPk4CkC6ML3O"
      },
      "source": [
        "scaler = StandardScaler()\n",
        "scaler.fit(X_train)\n",
        "X_train_scaled = scaler.transform(X_train)\n",
        "X_test_scaled = scaler.transform(X_test)"
      ],
      "execution_count": null,
      "outputs": []
    },
    {
      "cell_type": "markdown",
      "metadata": {
        "id": "mZhPBkPoO0ry"
      },
      "source": [
        "### SVM"
      ]
    },
    {
      "cell_type": "code",
      "metadata": {
        "id": "nJjZtyUIO3Ry"
      },
      "source": [
        "from sklearn.svm import SVC\n",
        "from sklearn.model_selection import GridSearchCV"
      ],
      "execution_count": null,
      "outputs": []
    },
    {
      "cell_type": "code",
      "metadata": {
        "colab": {
          "base_uri": "https://localhost:8080/"
        },
        "id": "SEu-jweCnYuf",
        "outputId": "ee6539b6-b9d5-4158-8790-6850dd1e889c"
      },
      "source": [
        "clf = SVC()\n",
        "clf.fit(X_train_scaled, y_train)"
      ],
      "execution_count": null,
      "outputs": [
        {
          "output_type": "execute_result",
          "data": {
            "text/plain": [
              "SVC(C=1.0, break_ties=False, cache_size=200, class_weight=None, coef0=0.0,\n",
              "    decision_function_shape='ovr', degree=3, gamma='scale', kernel='rbf',\n",
              "    max_iter=-1, probability=False, random_state=None, shrinking=True,\n",
              "    tol=0.001, verbose=False)"
            ]
          },
          "metadata": {
            "tags": []
          },
          "execution_count": 50
        }
      ]
    },
    {
      "cell_type": "code",
      "metadata": {
        "id": "cH0rItZe95je"
      },
      "source": [
        "from sklearn.metrics import plot_confusion_matrix\n",
        "from sklearn.metrics import accuracy_score"
      ],
      "execution_count": null,
      "outputs": []
    },
    {
      "cell_type": "code",
      "metadata": {
        "colab": {
          "base_uri": "https://localhost:8080/"
        },
        "id": "rDQnw88587hv",
        "outputId": "8820618a-09fc-4379-ce63-84dfae0c0ef4"
      },
      "source": [
        "y_pred = clf.predict(X_test_scaled)\n",
        "acc = accuracy_score(y_test, y_pred)\n",
        "print('Accuracy system: ' + str(acc))"
      ],
      "execution_count": null,
      "outputs": [
        {
          "output_type": "stream",
          "text": [
            "Accuracy system: 0.990990990990991\n"
          ],
          "name": "stdout"
        }
      ]
    },
    {
      "cell_type": "code",
      "metadata": {
        "colab": {
          "base_uri": "https://localhost:8080/",
          "height": 295
        },
        "id": "kPJFRo8YCv31",
        "outputId": "a71a38ce-b691-4b28-fa53-892af3beddb6"
      },
      "source": [
        "cm = plot_confusion_matrix(clf, X_test_scaled, y_test, cmap='Blues')\n",
        "cm.ax_.set_title('Clasificación mediante SVM')\n",
        "plt.savefig('SVM_normal.png')\n",
        "plt.show()"
      ],
      "execution_count": null,
      "outputs": [
        {
          "output_type": "display_data",
          "data": {
            "image/png": "[encoded data removed]",
            "text/plain": [
              "<Figure size 432x288 with 2 Axes>"
            ]
          },
          "metadata": {
            "tags": [],
            "needs_background": "light"
          }
        }
      ]
    },
    {
      "cell_type": "markdown",
      "metadata": {
        "id": "uG55kOeB-JaY"
      },
      "source": [
        "GridSearch para SVM. Busqueda de Kernels."
      ]
    },
    {
      "cell_type": "code",
      "metadata": {
        "colab": {
          "base_uri": "https://localhost:8080/"
        },
        "id": "mgEgRRGf-Q7h",
        "outputId": "8352f317-327d-4adb-b587-529f67c8949a"
      },
      "source": [
        "svm_clf = SVC()\n",
        "grid_kernels = {'kernel':('linear', 'poly', 'rbf', 'sigmoid')}\n",
        "svm_grid = GridSearchCV(svm_clf, grid_kernels, scoring='accuracy', verbose=1)\n",
        "svm_grid.fit(X_train_scaled, y_train)"
      ],
      "execution_count": null,
      "outputs": [
        {
          "output_type": "stream",
          "text": [
            "Fitting 5 folds for each of 4 candidates, totalling 20 fits\n"
          ],
          "name": "stdout"
        },
        {
          "output_type": "stream",
          "text": [
            "[Parallel(n_jobs=1)]: Using backend SequentialBackend with 1 concurrent workers.\n",
            "[Parallel(n_jobs=1)]: Done  20 out of  20 | elapsed:    5.3s finished\n"
          ],
          "name": "stderr"
        },
        {
          "output_type": "execute_result",
          "data": {
            "text/plain": [
              "GridSearchCV(cv=None, error_score=nan,\n",
              "             estimator=SVC(C=1.0, break_ties=False, cache_size=200,\n",
              "                           class_weight=None, coef0=0.0,\n",
              "                           decision_function_shape='ovr', degree=3,\n",
              "                           gamma='scale', kernel='rbf', max_iter=-1,\n",
              "                           probability=False, random_state=None, shrinking=True,\n",
              "                           tol=0.001, verbose=False),\n",
              "             iid='deprecated', n_jobs=None,\n",
              "             param_grid={'kernel': ('linear', 'poly', 'rbf', 'sigmoid')},\n",
              "             pre_dispatch='2*n_jobs', refit=True, return_train_score=False,\n",
              "             scoring='accuracy', verbose=1)"
            ]
          },
          "metadata": {
            "tags": []
          },
          "execution_count": 54
        }
      ]
    },
    {
      "cell_type": "code",
      "metadata": {
        "colab": {
          "base_uri": "https://localhost:8080/"
        },
        "id": "3Y8GcY192Pyx",
        "outputId": "c3992a56-68b7-446d-a622-e70ead611a66"
      },
      "source": [
        "y_pred = svm_grid.predict(X_test_scaled)\n",
        "acc = accuracy_score(y_test, y_pred)\n",
        "print('Accuracy system: ' + str(acc))"
      ],
      "execution_count": null,
      "outputs": [
        {
          "output_type": "stream",
          "text": [
            "Accuracy system: 0.990990990990991\n"
          ],
          "name": "stdout"
        }
      ]
    },
    {
      "cell_type": "markdown",
      "metadata": {
        "id": "gaZpY6wwBEHB"
      },
      "source": [
        "#### Matriz de confusión."
      ]
    },
    {
      "cell_type": "code",
      "metadata": {
        "colab": {
          "base_uri": "https://localhost:8080/",
          "height": 295
        },
        "id": "JfaqiUNvBG2Y",
        "outputId": "5359c8c6-b985-4794-97a0-879a6c41c80a"
      },
      "source": [
        "cm = plot_confusion_matrix(svm_grid, X_test_scaled, y_test, cmap='Blues')\n",
        "cm.ax_.set_title('Clasificación mediante SVM tuneado')\n",
        "plt.savefig('SVM_tunned.png')\n",
        "plt.show()"
      ],
      "execution_count": null,
      "outputs": [
        {
          "output_type": "display_data",
          "data": {
            "image/png": "[encoded data removed]",
            "text/plain": [
              "<Figure size 432x288 with 2 Axes>"
            ]
          },
          "metadata": {
            "tags": [],
            "needs_background": "light"
          }
        }
      ]
    },
    {
      "cell_type": "markdown",
      "metadata": {
        "id": "v4ctv4sj_y3o"
      },
      "source": [
        "### Random Forest"
      ]
    },
    {
      "cell_type": "code",
      "metadata": {
        "id": "t93LN6YE_yMA"
      },
      "source": [
        "from sklearn.ensemble import RandomForestClassifier"
      ],
      "execution_count": null,
      "outputs": []
    },
    {
      "cell_type": "code",
      "metadata": {
        "colab": {
          "base_uri": "https://localhost:8080/"
        },
        "id": "wCIFH4H74ATV",
        "outputId": "e1f1ece8-47bb-4e22-b461-98e6ce4c0a91"
      },
      "source": [
        "rf = RandomForestClassifier()\n",
        "rf.fit(X_train_scaled, y_train)"
      ],
      "execution_count": null,
      "outputs": [
        {
          "output_type": "execute_result",
          "data": {
            "text/plain": [
              "RandomForestClassifier(bootstrap=True, ccp_alpha=0.0, class_weight=None,\n",
              "                       criterion='gini', max_depth=None, max_features='auto',\n",
              "                       max_leaf_nodes=None, max_samples=None,\n",
              "                       min_impurity_decrease=0.0, min_impurity_split=None,\n",
              "                       min_samples_leaf=1, min_samples_split=2,\n",
              "                       min_weight_fraction_leaf=0.0, n_estimators=100,\n",
              "                       n_jobs=None, oob_score=False, random_state=None,\n",
              "                       verbose=0, warm_start=False)"
            ]
          },
          "metadata": {
            "tags": []
          },
          "execution_count": 58
        }
      ]
    },
    {
      "cell_type": "code",
      "metadata": {
        "colab": {
          "base_uri": "https://localhost:8080/"
        },
        "id": "CEN8hIxUA3h8",
        "outputId": "943d80e7-d0fb-4e52-ecb3-ac416345d2ea"
      },
      "source": [
        "y_pred = rf.predict(X_test_scaled)\n",
        "acc = accuracy_score(y_test, y_pred)\n",
        "print('Accuracy system: ' + str(acc))"
      ],
      "execution_count": null,
      "outputs": [
        {
          "output_type": "stream",
          "text": [
            "Accuracy system: 0.9369369369369369\n"
          ],
          "name": "stdout"
        }
      ]
    },
    {
      "cell_type": "code",
      "metadata": {
        "colab": {
          "base_uri": "https://localhost:8080/",
          "height": 295
        },
        "id": "ymBdis5ZB8a3",
        "outputId": "926dce4a-628b-413d-de5b-ea458f8085e9"
      },
      "source": [
        "cm = plot_confusion_matrix(rf, X_test_scaled, y_test, cmap='Blues')\n",
        "cm.ax_.set_title('Clasificación mediante Random Forest')\n",
        "plt.savefig('RF.png')\n",
        "plt.show()"
      ],
      "execution_count": null,
      "outputs": [
        {
          "output_type": "display_data",
          "data": {
            "image/png": "[encoded data removed]",
            "text/plain": [
              "<Figure size 432x288 with 2 Axes>"
            ]
          },
          "metadata": {
            "tags": [],
            "needs_background": "light"
          }
        }
      ]
    }
  ]
}